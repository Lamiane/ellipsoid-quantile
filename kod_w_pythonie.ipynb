{
 "cells": [
  {
   "cell_type": "code",
   "execution_count": 2,
   "metadata": {
    "collapsed": false
   },
   "outputs": [
    {
     "name": "stdout",
     "output_type": "stream",
     "text": [
      "cov:\n",
      "[[ 55.5  14.5]\n",
      " [ 14.5  24.3]]\n",
      "miu: (7.0, 7.5999999999999996)\n",
      "eig_vals [ 61.19812198  18.60187802]\n",
      "eig_vects:\n",
      "[[ 0.9307145  -0.36574653]\n",
      " [ 0.36574653  0.9307145 ]]\n",
      "4.0\n"
     ]
    },
    {
     "data": {
      "image/png": "[encoded data removed]",
      "text/plain": [
       "<matplotlib.figure.Figure at 0x7f47a002d790>"
      ]
     },
     "metadata": {},
     "output_type": "display_data"
    }
   ],
   "source": [
    "% matplotlib inline\n",
    "import numpy as np\n",
    "import matplotlib.pyplot as plt\n",
    "\n",
    "KWANTYL = 0.9\n",
    "\n",
    "data = [(1, 3), (4,4), (5, 6), (5, 15), (20, 10)]\n",
    "data = np.array(data)\n",
    "plt.scatter(data[:,0], data[:,1])\n",
    "\n",
    "cov = np.cov(np.transpose(data))  # dobrze?\n",
    "miu = (np.mean(data[:,0]), np.mean(data[:,1]) )\n",
    "print 'cov:\\n', cov\n",
    "print 'miu:', miu\n",
    "plt.scatter(miu[0], miu[1], c='red')\n",
    "\n",
    "eig_vals, eig_vects =  np.linalg.eig(cov) # kazdy wektor w kolejnej kolumnie\n",
    "print 'eig_vals', eig_vals\n",
    "print 'eig_vects:\\n', eig_vects\n",
    "\n",
    "# alpha = -2 * np.log(0.9)\n",
    "# print 'alpha', alpha\n",
    "\n",
    "# chisquare_val = 2.4477 # is for 0.95\n",
    "theta_grid = np.linspace(0,2*np.pi)\n",
    "# ellipse_x_r  = chisquare_val*np.sqrt(eig_vals[0])*np.cos( theta_grid )\n",
    "# ellipse_y_r  = chisquare_val*np.sqrt(eig_vals[1])*np.sin( theta_grid )\n",
    "\n",
    "# inserted wzorek od leśniaka\n",
    "con_inv = np.linalg.inv(cov)\n",
    "a, b = con_inv[0,:]\n",
    "c, d = con_inv[1,:]\n",
    "\n",
    "# leśniak 2 | przerzucamy dane do przestrzeni, gdzie elipsa jest kolem i liczymy kwantyl\n",
    "les2 = [np.dot(np.dot((row-miu).T, con_inv), (row-miu)) for row in data]\n",
    "les2 = sorted(les2)\n",
    "ind = np.floor(KWANTYL*len(les2))\n",
    "print ind\n",
    "\n",
    "# INSERTED WZOREK OD LESNIAKA DALSZA CZESC\n",
    "licznik = les2[int(ind)]\n",
    "mianownik = a*np.cos(theta_grid)*np.cos(theta_grid) + (b+c)*np.sin(theta_grid)*np.cos(theta_grid) + d*np.sin(theta_grid)*np.sin(theta_grid)\n",
    "lam = np.sqrt(licznik/mianownik)\n",
    "\n",
    "# wspolrzedne elipsy\n",
    "x = np.multiply(lam, np.cos(theta_grid))\n",
    "y = np.multiply(lam, np.sin(theta_grid))\n",
    "\n",
    "# angle = np.arctan2(eig_vects[1,0], eig_vects[0,0])\n",
    "# if(angle < 0):\n",
    "#     angle = angle + 2*np.pi\n",
    "\n",
    "# R = np.array([[ np.cos(angle), np.sin(angle)], [-np.sin(angle), np. cos(angle)] ])\n",
    "# r_ellipse = np.dot(np.vstack((ellipse_x_r, ellipse_y_r)).T, R)\n",
    "\n",
    "plt.plot(x+miu[0], y+miu[1], c='green')\n",
    "# plt.plot(r_ellipse[:,0]+miu[0], r_ellipse[:,1]+miu[1], c='green')\n",
    "plt.show()"
   ]
  },
  {
   "cell_type": "code",
   "execution_count": 2,
   "metadata": {
    "collapsed": false
   },
   "outputs": [
    {
     "name": "stdout",
     "output_type": "stream",
     "text": [
      "[0.12867182009838368, 0.54882290934645106, 1.0969606465214334, 3.0934469430780043, 3.1320976809557273]\n"
     ]
    }
   ],
   "source": [
    "print les2\n"
   ]
  },
  {
   "cell_type": "code",
   "execution_count": null,
   "metadata": {
    "collapsed": true
   },
   "outputs": [],
   "source": []
  }
 ],
 "metadata": {
  "kernelspec": {
   "display_name": "Python 2",
   "language": "python",
   "name": "python2"
  },
  "language_info": {
   "codemirror_mode": {
    "name": "ipython",
    "version": 2
   },
   "file_extension": ".py",
   "mimetype": "text/x-python",
   "name": "python",
   "nbconvert_exporter": "python",
   "pygments_lexer": "ipython2",
   "version": "2.7.12"
  }
 },
 "nbformat": 4,
 "nbformat_minor": 0
}
