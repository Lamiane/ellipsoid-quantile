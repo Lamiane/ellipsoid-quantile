{
 "cells": [
  {
   "cell_type": "code",
   "execution_count": 5,
   "metadata": {
    "collapsed": false
   },
   "outputs": [],
   "source": [
    "import numpy as np\n",
    "from collections import Counter\n",
    "\n",
    "def ellipsoidal_quantile(data, q):\n",
    "    cov = np.cov(data.T)\n",
    "    inv_cov = np.linalg.inv(cov)\n",
    "    mean = np.mean(data, axis=0)\n",
    "    \n",
    "    _, eig_vects = np.linalg.eig(cov)\n",
    "\n",
    "    # distances from the mean in the 'circular' space\n",
    "    circled_data = sorted(np.sqrt([np.dot(np.dot((row-mean).T, inv_cov), (row-mean)) for row in data]))\n",
    "    n = len(circled_data)\n",
    "    n_at_distance = Counter(circled_data)\n",
    "\n",
    "    # calculate qlevel\n",
    "    qlevel = [0]\n",
    "    for distance in reversed(sorted(n_at_distance.keys())):\n",
    "        qlevel.append(qlevel[-1]+n_at_distance[distance])\n",
    "    qlevel = [(n-float(i))/n for i in qlevel]\n",
    "    qlevel = qlevel[1:-1]\n",
    "    qlevel = np.array(qlevel)\n",
    "\n",
    "    # ========================\n",
    "    \n",
    "    index_outer = qlevel[qlevel>q].shape[0]+1\n",
    "    index_inner = index_outer+1\n",
    "    \n",
    "    qlevel = [1] + list(qlevel)\n",
    "    distances = list(reversed(sorted(set(circled_data))))\n",
    "    qo = qlevel[index_outer-1]\n",
    "    do = distances[index_outer-1]\n",
    "\n",
    "    if index_outer == len(distances):\n",
    "        qi, di = 0, 0\n",
    "    else:\n",
    "        qi = qlevel[index_inner-1]\n",
    "        di = distances[index_inner-1]\n",
    "\n",
    "    quantile_distance = di + (do-di)*((q-qi)/(qo-qi))\n",
    "    quantile_distance = quantile_distance**2\n",
    "\n",
    "    new_covariance =  quantile_distance * cov\n",
    "\n",
    "    # ========================\n",
    "\n",
    "    vals, vects = np.linalg.eig(new_covariance)\n",
    "    radii = np.sqrt(vals)\n",
    "\n",
    "    # ========================\n",
    "    \n",
    "    print mean\n",
    "    print radii\n",
    "    print eig_vects\n",
    "    print '========'\n"
   ]
  },
  {
   "cell_type": "code",
   "execution_count": 6,
   "metadata": {
    "collapsed": false
   },
   "outputs": [
    {
     "name": "stdout",
     "output_type": "stream",
     "text": [
      "[ 7.   7.6]\n",
      "[ 13.8019558    7.60939241]\n",
      "[[ 0.9307145  -0.36574653]\n",
      " [ 0.36574653  0.9307145 ]]\n",
      "========\n"
     ]
    }
   ],
   "source": [
    "data = np.array([(1, 3), (4, 4), (5, 6), (5, 15), (20, 10)])\n",
    "ellipsoidal_quantile(data, 0.90)"
   ]
  },
  {
   "cell_type": "code",
   "execution_count": 7,
   "metadata": {
    "collapsed": false
   },
   "outputs": [
    {
     "ename": "LinAlgError",
     "evalue": "Singular matrix",
     "output_type": "error",
     "traceback": [
      "\u001b[1;31m---------------------------------------------------------------------------\u001b[0m",
      "\u001b[1;31mLinAlgError\u001b[0m                               Traceback (most recent call last)",
      "\u001b[1;32m<ipython-input-7-69f028cfc0a7>\u001b[0m in \u001b[0;36m<module>\u001b[1;34m()\u001b[0m\n\u001b[0;32m      1\u001b[0m \u001b[0mdata\u001b[0m \u001b[1;33m=\u001b[0m \u001b[0mnp\u001b[0m\u001b[1;33m.\u001b[0m\u001b[0marray\u001b[0m\u001b[1;33m(\u001b[0m\u001b[1;33m[\u001b[0m\u001b[1;33m(\u001b[0m\u001b[1;36m1\u001b[0m\u001b[1;33m,\u001b[0m \u001b[1;36m1\u001b[0m\u001b[1;33m)\u001b[0m\u001b[1;33m,\u001b[0m \u001b[1;33m(\u001b[0m\u001b[1;36m0\u001b[0m\u001b[1;33m,\u001b[0m \u001b[1;36m0\u001b[0m\u001b[1;33m)\u001b[0m\u001b[1;33m,\u001b[0m \u001b[1;33m(\u001b[0m\u001b[1;36m2\u001b[0m\u001b[1;33m,\u001b[0m \u001b[1;36m2\u001b[0m\u001b[1;33m)\u001b[0m\u001b[1;33m]\u001b[0m\u001b[1;33m)\u001b[0m\u001b[1;33m\u001b[0m\u001b[0m\n\u001b[1;32m----> 2\u001b[1;33m \u001b[0mellipsoidal_quantile\u001b[0m\u001b[1;33m(\u001b[0m\u001b[0mdata\u001b[0m\u001b[1;33m,\u001b[0m \u001b[1;36m0.9\u001b[0m\u001b[1;33m)\u001b[0m\u001b[1;33m\u001b[0m\u001b[0m\n\u001b[0m",
      "\u001b[1;32m<ipython-input-5-c8dc3ceb2d9c>\u001b[0m in \u001b[0;36mellipsoidal_quantile\u001b[1;34m(data, q)\u001b[0m\n\u001b[0;32m      4\u001b[0m \u001b[1;32mdef\u001b[0m \u001b[0mellipsoidal_quantile\u001b[0m\u001b[1;33m(\u001b[0m\u001b[0mdata\u001b[0m\u001b[1;33m,\u001b[0m \u001b[0mq\u001b[0m\u001b[1;33m)\u001b[0m\u001b[1;33m:\u001b[0m\u001b[1;33m\u001b[0m\u001b[0m\n\u001b[0;32m      5\u001b[0m     \u001b[0mcov\u001b[0m \u001b[1;33m=\u001b[0m \u001b[0mnp\u001b[0m\u001b[1;33m.\u001b[0m\u001b[0mcov\u001b[0m\u001b[1;33m(\u001b[0m\u001b[0mdata\u001b[0m\u001b[1;33m.\u001b[0m\u001b[0mT\u001b[0m\u001b[1;33m)\u001b[0m\u001b[1;33m\u001b[0m\u001b[0m\n\u001b[1;32m----> 6\u001b[1;33m     \u001b[0minv_cov\u001b[0m \u001b[1;33m=\u001b[0m \u001b[0mnp\u001b[0m\u001b[1;33m.\u001b[0m\u001b[0mlinalg\u001b[0m\u001b[1;33m.\u001b[0m\u001b[0minv\u001b[0m\u001b[1;33m(\u001b[0m\u001b[0mcov\u001b[0m\u001b[1;33m)\u001b[0m\u001b[1;33m\u001b[0m\u001b[0m\n\u001b[0m\u001b[0;32m      7\u001b[0m     \u001b[0mmean\u001b[0m \u001b[1;33m=\u001b[0m \u001b[0mnp\u001b[0m\u001b[1;33m.\u001b[0m\u001b[0mmean\u001b[0m\u001b[1;33m(\u001b[0m\u001b[0mdata\u001b[0m\u001b[1;33m,\u001b[0m \u001b[0maxis\u001b[0m\u001b[1;33m=\u001b[0m\u001b[1;36m0\u001b[0m\u001b[1;33m)\u001b[0m\u001b[1;33m\u001b[0m\u001b[0m\n\u001b[0;32m      8\u001b[0m \u001b[1;33m\u001b[0m\u001b[0m\n",
      "\u001b[1;32m/home/nex/Libraries/anaconda/lib/python2.7/site-packages/numpy/linalg/linalg.pyc\u001b[0m in \u001b[0;36minv\u001b[1;34m(a)\u001b[0m\n\u001b[0;32m    524\u001b[0m     \u001b[0msignature\u001b[0m \u001b[1;33m=\u001b[0m \u001b[1;34m'D->D'\u001b[0m \u001b[1;32mif\u001b[0m \u001b[0misComplexType\u001b[0m\u001b[1;33m(\u001b[0m\u001b[0mt\u001b[0m\u001b[1;33m)\u001b[0m \u001b[1;32melse\u001b[0m \u001b[1;34m'd->d'\u001b[0m\u001b[1;33m\u001b[0m\u001b[0m\n\u001b[0;32m    525\u001b[0m     \u001b[0mextobj\u001b[0m \u001b[1;33m=\u001b[0m \u001b[0mget_linalg_error_extobj\u001b[0m\u001b[1;33m(\u001b[0m\u001b[0m_raise_linalgerror_singular\u001b[0m\u001b[1;33m)\u001b[0m\u001b[1;33m\u001b[0m\u001b[0m\n\u001b[1;32m--> 526\u001b[1;33m     \u001b[0mainv\u001b[0m \u001b[1;33m=\u001b[0m \u001b[0m_umath_linalg\u001b[0m\u001b[1;33m.\u001b[0m\u001b[0minv\u001b[0m\u001b[1;33m(\u001b[0m\u001b[0ma\u001b[0m\u001b[1;33m,\u001b[0m \u001b[0msignature\u001b[0m\u001b[1;33m=\u001b[0m\u001b[0msignature\u001b[0m\u001b[1;33m,\u001b[0m \u001b[0mextobj\u001b[0m\u001b[1;33m=\u001b[0m\u001b[0mextobj\u001b[0m\u001b[1;33m)\u001b[0m\u001b[1;33m\u001b[0m\u001b[0m\n\u001b[0m\u001b[0;32m    527\u001b[0m     \u001b[1;32mreturn\u001b[0m \u001b[0mwrap\u001b[0m\u001b[1;33m(\u001b[0m\u001b[0mainv\u001b[0m\u001b[1;33m.\u001b[0m\u001b[0mastype\u001b[0m\u001b[1;33m(\u001b[0m\u001b[0mresult_t\u001b[0m\u001b[1;33m,\u001b[0m \u001b[0mcopy\u001b[0m\u001b[1;33m=\u001b[0m\u001b[0mFalse\u001b[0m\u001b[1;33m)\u001b[0m\u001b[1;33m)\u001b[0m\u001b[1;33m\u001b[0m\u001b[0m\n\u001b[0;32m    528\u001b[0m \u001b[1;33m\u001b[0m\u001b[0m\n",
      "\u001b[1;32m/home/nex/Libraries/anaconda/lib/python2.7/site-packages/numpy/linalg/linalg.pyc\u001b[0m in \u001b[0;36m_raise_linalgerror_singular\u001b[1;34m(err, flag)\u001b[0m\n\u001b[0;32m     88\u001b[0m \u001b[1;33m\u001b[0m\u001b[0m\n\u001b[0;32m     89\u001b[0m \u001b[1;32mdef\u001b[0m \u001b[0m_raise_linalgerror_singular\u001b[0m\u001b[1;33m(\u001b[0m\u001b[0merr\u001b[0m\u001b[1;33m,\u001b[0m \u001b[0mflag\u001b[0m\u001b[1;33m)\u001b[0m\u001b[1;33m:\u001b[0m\u001b[1;33m\u001b[0m\u001b[0m\n\u001b[1;32m---> 90\u001b[1;33m     \u001b[1;32mraise\u001b[0m \u001b[0mLinAlgError\u001b[0m\u001b[1;33m(\u001b[0m\u001b[1;34m\"Singular matrix\"\u001b[0m\u001b[1;33m)\u001b[0m\u001b[1;33m\u001b[0m\u001b[0m\n\u001b[0m\u001b[0;32m     91\u001b[0m \u001b[1;33m\u001b[0m\u001b[0m\n\u001b[0;32m     92\u001b[0m \u001b[1;32mdef\u001b[0m \u001b[0m_raise_linalgerror_nonposdef\u001b[0m\u001b[1;33m(\u001b[0m\u001b[0merr\u001b[0m\u001b[1;33m,\u001b[0m \u001b[0mflag\u001b[0m\u001b[1;33m)\u001b[0m\u001b[1;33m:\u001b[0m\u001b[1;33m\u001b[0m\u001b[0m\n",
      "\u001b[1;31mLinAlgError\u001b[0m: Singular matrix"
     ]
    }
   ],
   "source": [
    "data = np.array([(1, 1), (0, 0), (2, 2)])\n",
    "ellipsoidal_quantile(data, 0.9)"
   ]
  },
  {
   "cell_type": "code",
   "execution_count": 8,
   "metadata": {
    "collapsed": false
   },
   "outputs": [
    {
     "name": "stdout",
     "output_type": "stream",
     "text": [
      "[ 0.  0.]\n",
      "[ 0.9  0.9]\n",
      "[[ 1.  0.]\n",
      " [ 0.  1.]]\n",
      "========\n",
      "[ 0.  0.]\n",
      "[ 0.8  0.8]\n",
      "[[ 1.  0.]\n",
      " [ 0.  1.]]\n",
      "========\n",
      "[ 0.  0.]\n",
      "[ 0.75  0.75]\n",
      "[[ 1.  0.]\n",
      " [ 0.  1.]]\n",
      "========\n"
     ]
    }
   ],
   "source": [
    "data = np.array([(0, -1), (-1, 0), (0, 1), (1, 0)])\n",
    "ellipsoidal_quantile(data, 0.9)\n",
    "ellipsoidal_quantile(data, 0.8)\n",
    "ellipsoidal_quantile(data, 0.75)"
   ]
  },
  {
   "cell_type": "code",
   "execution_count": 9,
   "metadata": {
    "collapsed": false
   },
   "outputs": [
    {
     "name": "stdout",
     "output_type": "stream",
     "text": [
      "[ 2.875  2.75 ]\n",
      "[ 7.92276089  4.78140648]\n",
      "[[ 0.96289942 -0.26986054]\n",
      " [ 0.26986054  0.96289942]]\n",
      "========\n",
      "[ 2.875  2.75 ]\n",
      "[ 7.54609152  4.55408555]\n",
      "[[ 0.96289942 -0.26986054]\n",
      " [ 0.26986054  0.96289942]]\n",
      "========\n"
     ]
    }
   ],
   "source": [
    "data = np.array([(0, -1), (1, 3), (-4, 0), (5, 1), (6, 7), (11, 2), (3, 3), (1, 7)])\n",
    "ellipsoidal_quantile(data, 0.9)\n",
    "ellipsoidal_quantile(data, 0.8)"
   ]
  },
  {
   "cell_type": "code",
   "execution_count": 10,
   "metadata": {
    "collapsed": false
   },
   "outputs": [
    {
     "name": "stdout",
     "output_type": "stream",
     "text": [
      "[ 2.83333333  0.66666667  3.        ]\n",
      "[ 12.59780615   7.36977253   2.15709836]\n",
      "[[-0.3746164   0.81857494 -0.43542809]\n",
      " [ 0.87856714  0.16332574 -0.44882567]\n",
      " [ 0.29628083  0.55069026  0.78035755]]\n",
      "========\n"
     ]
    }
   ],
   "source": [
    "data = np.array([(1, 1, 1), (2, 3, 4), (6, 7, 8), (1, 0, 0), (-2, 3, 4), (9, -10, 1)])\n",
    "ellipsoidal_quantile(data, 0.8)"
   ]
  }
 ],
 "metadata": {
  "kernelspec": {
   "display_name": "Python 2",
   "language": "python",
   "name": "python2"
  },
  "language_info": {
   "codemirror_mode": {
    "name": "ipython",
    "version": 2
   },
   "file_extension": ".py",
   "mimetype": "text/x-python",
   "name": "python",
   "nbconvert_exporter": "python",
   "pygments_lexer": "ipython2",
   "version": "2.7.12"
  }
 },
 "nbformat": 4,
 "nbformat_minor": 0
}
